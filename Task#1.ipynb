{
 "cells": [
  {
   "cell_type": "markdown",
   "id": "0c8eaa60",
   "metadata": {},
   "source": [
    "# Menna Lashin\n",
    "## The Sparks fundation Data Dcience internship\n",
    "## Task (1)"
   ]
  },
  {
   "cell_type": "code",
   "execution_count": 1,
   "id": "c4448608",
   "metadata": {},
   "outputs": [],
   "source": [
    "import numpy as np\n",
    "import pandas as pd\n",
    "import matplotlib.pyplot as plt\n",
    "from sklearn.model_selection import train_test_split  \n",
    "from sklearn.linear_model import LinearRegression\n",
    "from sklearn.metrics import r2_score"
   ]
  },
  {
   "cell_type": "markdown",
   "id": "0d738005",
   "metadata": {},
   "source": [
    "### Import Data from External Link as a DataFrame using : pd.read_csv()"
   ]
  },
  {
   "cell_type": "code",
   "execution_count": 2,
   "id": "c5fd7050",
   "metadata": {},
   "outputs": [
    {
     "name": "stdout",
     "output_type": "stream",
     "text": [
      "    Hours  Scores\n",
      "0     2.5      21\n",
      "1     5.1      47\n",
      "2     3.2      27\n",
      "3     8.5      75\n",
      "4     3.5      30\n",
      "5     1.5      20\n",
      "6     9.2      88\n",
      "7     5.5      60\n",
      "8     8.3      81\n",
      "9     2.7      25\n",
      "10    7.7      85\n",
      "11    5.9      62\n",
      "12    4.5      41\n",
      "13    3.3      42\n",
      "14    1.1      17\n",
      "15    8.9      95\n",
      "16    2.5      30\n",
      "17    1.9      24\n",
      "18    6.1      67\n",
      "19    7.4      69\n",
      "20    2.7      30\n",
      "21    4.8      54\n",
      "22    3.8      35\n",
      "23    6.9      76\n",
      "24    7.8      86\n"
     ]
    }
   ],
   "source": [
    "dataURL=\"http://bit.ly/w-data\"\n",
    "df=pd.read_csv(dataURL)\n",
    "print(df)"
   ]
  },
  {
   "cell_type": "markdown",
   "id": "4f62eb55",
   "metadata": {},
   "source": [
    "### Use scatter plot to check the correlation between (studyHours,Percentage)"
   ]
  },
  {
   "cell_type": "code",
   "execution_count": 3,
   "id": "a2ba4de6",
   "metadata": {},
   "outputs": [
    {
     "data": {
      "image/png": "[encoded data removed]",
      "text/plain": [
       "<Figure size 432x288 with 1 Axes>"
      ]
     },
     "metadata": {
      "needs_background": "light"
     },
     "output_type": "display_data"
    }
   ],
   "source": [
    "\n",
    "plt.scatter(df['Hours'],df['Scores'],color='blue')\n",
    "plt.title('Hours vs Percentage')  \n",
    "plt.xlabel('Hours Studied')  \n",
    "plt.ylabel('Percentage Score')  \n",
    "plt.show()\n",
    "## There exist positive correlation "
   ]
  },
  {
   "cell_type": "markdown",
   "id": "d01d0365",
   "metadata": {},
   "source": [
    "### Split the data into Train and Test with random_state 42 and test_size 0.2"
   ]
  },
  {
   "cell_type": "code",
   "execution_count": 4,
   "id": "04f18963",
   "metadata": {},
   "outputs": [],
   "source": [
    "X_train, X_test, y_train, y_test = train_test_split(df['Hours'],df['Scores'],random_state=42,test_size=0.2)"
   ]
  },
  {
   "cell_type": "markdown",
   "id": "fab877b0",
   "metadata": {},
   "source": [
    "### Fit the Trainig data to Linear Regression model "
   ]
  },
  {
   "cell_type": "code",
   "execution_count": null,
   "id": "f44b350d",
   "metadata": {},
   "outputs": [],
   "source": [
    "reg=LinearRegression()\n",
    "X_train=np.array(X_train).reshape(-1, 1)\n",
    "X_test=np.array(X_test).reshape(-1, 1)\n",
    "y_train=np.array(y_train).reshape(-1, 1)\n",
    "y_test=np.array(y_test).reshape(-1, 1)\n",
    "fit=reg.fit(X_train,y_train)"
   ]
  },
  {
   "cell_type": "markdown",
   "id": "e957e404",
   "metadata": {},
   "source": [
    "### predict and get accuracy"
   ]
  },
  {
   "cell_type": "code",
   "execution_count": 11,
   "id": "883f20e3",
   "metadata": {},
   "outputs": [
    {
     "name": "stdout",
     "output_type": "stream",
     "text": [
      "   Prediction\n",
      "0   83.188141\n",
      "1   27.032088\n",
      "2   27.032088\n",
      "3   69.633232\n",
      "4   59.951153\n"
     ]
    }
   ],
   "source": [
    "predict=reg.predict(X_test)\n",
    "print(pd.DataFrame(predict,columns=['Prediction']))"
   ]
  },
  {
   "cell_type": "code",
   "execution_count": 16,
   "id": "e0286ae9",
   "metadata": {},
   "outputs": [
    {
     "name": "stdout",
     "output_type": "stream",
     "text": [
      "Model Accuracy Is : 96.33493914970948\n"
     ]
    }
   ],
   "source": [
    "# Accuracy for Regression problem\n",
    "acc=r2_score(predict,y_test)*100\n",
    "print(\"Model Accuracy Is : \"+str(acc))"
   ]
  },
  {
   "cell_type": "code",
   "execution_count": null,
   "id": "8c4f2142",
   "metadata": {},
   "outputs": [],
   "source": []
  }
 ],
 "metadata": {
  "kernelspec": {
   "display_name": "Python 3 (ipykernel)",
   "language": "python",
   "name": "python3"
  },
  "language_info": {
   "codemirror_mode": {
    "name": "ipython",
    "version": 3
   },
   "file_extension": ".py",
   "mimetype": "text/x-python",
   "name": "python",
   "nbconvert_exporter": "python",
   "pygments_lexer": "ipython3",
   "version": "3.9.10"
  }
 },
 "nbformat": 4,
 "nbformat_minor": 5
}
